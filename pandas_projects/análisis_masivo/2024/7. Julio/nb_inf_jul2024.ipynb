{
 "cells": [
  {
   "cell_type": "markdown",
   "metadata": {},
   "source": [
    "# » `Dependencias`:"
   ]
  },
  {
   "cell_type": "code",
   "execution_count": null,
   "metadata": {},
   "outputs": [],
   "source": [
    "# !pip install plotly\n",
    "# !pip install sqlalchemy\n",
    "# !pip install numpy\n",
    "# !pip install matplotlib"
   ]
  },
  {
   "cell_type": "markdown",
   "metadata": {},
   "source": []
  },
  {
   "cell_type": "code",
   "execution_count": 67,
   "metadata": {},
   "outputs": [],
   "source": [
    "import pandas as pd\n",
    "from sqlalchemy import create_engine\n",
    "import numpy as np\n",
    "import re\n",
    "import matplotlib.pyplot as plt\n",
    "# import cufflinks as cf\n",
    "# from IPython.display import display, HTML\n",
    "\n",
    "# cf.set_config_file"
   ]
  },
  {
   "cell_type": "markdown",
   "metadata": {},
   "source": [
    "## 1. Conección → SIM(172.27.0.124)"
   ]
  },
  {
   "cell_type": "code",
   "execution_count": 2,
   "metadata": {},
   "outputs": [],
   "source": [
    "# spring.datasource.url = jdbc:sqlserver://172.27.250.27;databaseName=SIRIM\n",
    "SERVER = '172.27.0.124' # '172.27.0.242'\n",
    "#DRIVER = 'SQL Server Native Client 11.0'\n",
    "DRIVER = 'ODBC Driver 17 for SQL Server'\n",
    "DATABASE = 'SIM'\n",
    "USERNAME = 'userestadistica' # 'udesa'\n",
    "PASSWORD = '$Us3R_3sT4d1sTic4$' # 'DESARROLLO2006'\n",
    "DATABASE_CONNECTION = f'mssql://{USERNAME}:{PASSWORD}@{SERVER}/{DATABASE}?driver={DRIVER}'\n",
    "\n",
    "engine = create_engine(DATABASE_CONNECTION)\n",
    "connection = engine.connect()"
   ]
  },
  {
   "cell_type": "markdown",
   "metadata": {},
   "source": [
    "## 2. Métodos genérico:"
   ]
  },
  {
   "cell_type": "code",
   "execution_count": 3,
   "metadata": {},
   "outputs": [],
   "source": [
    "def get_query_sql(query):\n",
    "  try:\n",
    "    df = pd.read_sql(query, connection)\n",
    "    return df\n",
    "  except:\n",
    "    print('¡Ocurrió un error!')"
   ]
  },
  {
   "cell_type": "markdown",
   "metadata": {},
   "source": [
    "## 3. Visualización de datos: `INF-JUL2024`"
   ]
  },
  {
   "cell_type": "markdown",
   "metadata": {},
   "source": [
    "### 3.1 1. Se define como regla, que las e-gates no podrán ser usadas por ciudadanos `PERUANOS` con documentos de viaje `DNI`."
   ]
  },
  {
   "cell_type": "code",
   "execution_count": 4,
   "metadata": {},
   "outputs": [],
   "source": [
    "# Extracción\n",
    "df_1 = pd.read_excel('./anexos/A1.xlsx')"
   ]
  },
  {
   "cell_type": "code",
   "execution_count": 246,
   "metadata": {},
   "outputs": [
    {
     "data": {
      "text/plain": [
       "25"
      ]
     },
     "execution_count": 246,
     "metadata": {},
     "output_type": "execute_result"
    }
   ],
   "source": [
    "# Campos: ['Id Persona', 'Id Mov Migratorio','Tipo Movimiento', 'Fecha Movimiento']\n",
    "df_1_1 = df_1.groupby(by=['Tipo Movimiento']).agg({ 'Id Mov Migratorio': [np.ma.count] }).droplevel(level=0, axis=1)\n",
    "len(df_1)\n",
    "\n",
    "#df_1_f = df_1_1.plot.bar(legend=False, xlabel='')"
   ]
  },
  {
   "cell_type": "markdown",
   "metadata": {},
   "source": [
    "### 3.2 2. Se define como regla, que los trámites de `Cambio de Clase de Visa` Aprobados, deben tener sus etapas `Finalizadas`."
   ]
  },
  {
   "cell_type": "code",
   "execution_count": 75,
   "metadata": {},
   "outputs": [],
   "source": [
    "df_2 = pd.read_excel('./anexos/A2.xlsx')"
   ]
  },
  {
   "cell_type": "code",
   "execution_count": 248,
   "metadata": {},
   "outputs": [
    {
     "data": {
      "text/plain": [
       "14"
      ]
     },
     "execution_count": 248,
     "metadata": {},
     "output_type": "execute_result"
    }
   ],
   "source": [
    "# ['Número Trámite', 'Fecha Trámite']\n",
    "\n",
    "df_2['Año Trámite'] =  pd.to_datetime(df_2['Fecha Trámite']).dt.year\n",
    "df_2_1 = df_2.groupby(by=['Año Trámite']).agg({ 'Número Trámite': [np.ma.count] }).droplevel(level=0, axis=1)\n",
    "\n",
    "len(df_2)\n",
    "\"\"\" df_2_f = df_2_1.plot(legend=False, xlabel='')\n",
    "df_2_f.set_xticks(ticks=[2022, 2023, 2024]) \"\"\""
   ]
  },
  {
   "cell_type": "markdown",
   "metadata": {},
   "source": [
    "### 3.3 3. Se define como regla, que las `Solicitud de Cambio Calidad Migratoria` aprobadas, deben registrar una fecha de vencimiento."
   ]
  },
  {
   "cell_type": "code",
   "execution_count": 137,
   "metadata": {},
   "outputs": [],
   "source": [
    "df_3 = pd.read_excel('./anexos/A3.xlsx')"
   ]
  },
  {
   "cell_type": "code",
   "execution_count": 250,
   "metadata": {},
   "outputs": [
    {
     "data": {
      "text/plain": [
       "186"
      ]
     },
     "execution_count": 250,
     "metadata": {},
     "output_type": "execute_result"
    }
   ],
   "source": [
    "# ['Número Trámite', 'dFechaAprobacion']\n",
    "df_3['Año Aprobacion'] = df_3['dFechaAprobacion'].dt.year\n",
    "\n",
    "len(df_3)\n",
    "\n",
    "\"\"\" df_3_1 = df_3.groupby(by=['Año Aprobacion']).agg({ 'Número Trámite': 'count' }) \\\n",
    "                                                              \n",
    "df_3_f = df_3_1.plot(legend=False, xlabel='') \"\"\"\n",
    "         "
   ]
  },
  {
   "cell_type": "markdown",
   "metadata": {},
   "source": [
    "### 3.4 4. Se define como regla, que los Carnet de Extranjería, deben tener una vigencia de 3 años en el caso de menores de edad."
   ]
  },
  {
   "cell_type": "code",
   "execution_count": 152,
   "metadata": {},
   "outputs": [],
   "source": [
    "df_4 = pd.read_excel('./anexos/A4.xlsx')"
   ]
  },
  {
   "cell_type": "code",
   "execution_count": 251,
   "metadata": {},
   "outputs": [
    {
     "data": {
      "text/plain": [
       "64651"
      ]
     },
     "execution_count": 251,
     "metadata": {},
     "output_type": "execute_result"
    }
   ],
   "source": [
    "import math\n",
    "# ['Número Carnet', 'Fecha Emisión', 'Fecha Caducidad']\n",
    "df_4['Días Exceso((C - E) - 3)'] = ((df_4['Fecha Caducidad'] - df_4['Fecha Emisión']).dt.days - (3 * 365))\n",
    "\n",
    "df_4_1 = df_4.groupby(by=['Días Exceso((C - E) - 3)']).agg({ 'Número Carnet': 'count' })\n",
    "df_4_f = df_4_1.plot(legend=False, xlabel='Días', ylabel='C.E. Menores')\n"
   ]
  },
  {
   "cell_type": "markdown",
   "metadata": {},
   "source": [
    "### 3.5 5. Se define como regla, que la población extranjera menor de edad, no debe registrar una calidad migratoria de: `OFICIAL, ARTISTA, TRIPULANTE, NEGOCIOS, TRABAJADOR y DIPLOMATICA`."
   ]
  },
  {
   "cell_type": "code",
   "execution_count": 206,
   "metadata": {},
   "outputs": [],
   "source": [
    "df_5 = pd.read_excel('./anexos/A5.xlsx')"
   ]
  },
  {
   "cell_type": "code",
   "execution_count": 252,
   "metadata": {},
   "outputs": [
    {
     "data": {
      "text/plain": [
       "501"
      ]
     },
     "execution_count": 252,
     "metadata": {},
     "output_type": "execute_result"
    }
   ],
   "source": [
    "# ['Id Persona', 'Nombres', 'Apellido 1', 'Apellido 2', 'Sexo', 'Fecha Nacimiento', 'Nacionalidad', 'Fecha Ingreso', 'Edad', 'Calidad Migratoria']\n",
    "\n",
    "df_5_1 = df_5.groupby(by=['Calidad Migratoria']).agg({ 'Id Persona': 'count' })\n",
    "df_5_f = df_5_1.plot.bar(legend=False, xlabel='')\n"
   ]
  },
  {
   "cell_type": "code",
   "execution_count": 47,
   "metadata": {},
   "outputs": [
    {
     "data": {
      "text/plain": [
       "'2024-05'"
      ]
     },
     "execution_count": 47,
     "metadata": {},
     "output_type": "execute_result"
    }
   ],
   "source": [
    "month = 5\n",
    "year = 2024\n",
    "path = f'{year}-{str(month).zfill(2)}'\n",
    "path"
   ]
  }
 ],
 "metadata": {
  "kernelspec": {
   "display_name": "base",
   "language": "python",
   "name": "python3"
  },
  "language_info": {
   "codemirror_mode": {
    "name": "ipython",
    "version": 3
   },
   "file_extension": ".py",
   "mimetype": "text/x-python",
   "name": "python",
   "nbconvert_exporter": "python",
   "pygments_lexer": "ipython3",
   "version": "3.12.2"
  }
 },
 "nbformat": 4,
 "nbformat_minor": 2
}
