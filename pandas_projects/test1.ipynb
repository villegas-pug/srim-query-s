{
 "cells": [
  {
   "cell_type": "code",
   "execution_count": 3,
   "id": "703a9017-6f51-4597-9711-f8a37f7576c6",
   "metadata": {},
   "outputs": [],
   "source": [
    "import pandas as pd\n",
    "\n",
    "# encoding = latin-1 | utf-8\n",
    "df = pd.read_csv('C:/Users/rguevarav/Desktop/pandas_projects/data/simpersona.csv', sep=';', encoding='latin-1', on_bad_lines='skip')"
   ]
  },
  {
   "cell_type": "code",
   "execution_count": 4,
   "id": "79fd2700-2594-4e83-b6b7-60e804a1c122",
   "metadata": {},
   "outputs": [],
   "source": [
    "# df.pivot_table(index='sSexo', columns='uIdPersona', aggfunc='count')\n",
    "# df.value_counts(ascending=False)\n",
    "\n",
    "df_vc = df[['sNombre', 'sPaterno', 'sMaterno', 'sSexo', 'dFechaNacimiento', 'sIdPaisNacionalidad']].value_counts(ascending=False)"
   ]
  },
  {
   "cell_type": "code",
   "execution_count": 5,
   "id": "1d362019-3a4c-407a-9be5-5a0ec0edb266",
   "metadata": {},
   "outputs": [],
   "source": [
    "df_vc = pd.DataFrame(df_vc)\n",
    "df_vc.reset_index(inplace=True)"
   ]
  },
  {
   "cell_type": "code",
   "execution_count": 43,
   "id": "a7045145-2221-4684-910e-0267b0f8d747",
   "metadata": {},
   "outputs": [
    {
     "data": {
      "text/plain": [
       "<Axes: ylabel='nContar'>"
      ]
     },
     "execution_count": 43,
     "metadata": {},
     "output_type": "execute_result"
    },
    {
     "data": {
      "image/png": "[encoded data removed]",
      "text/plain": [
       "<Figure size 640x480 with 1 Axes>"
      ]
     },
     "metadata": {},
     "output_type": "display_data"
    }
   ],
   "source": [
    "df_vc.rename(columns={ 'count': 'nContar' }, inplace=True)\n",
    "df_vc = df_vc[df_vc['nContar']>2]\n",
    "\n",
    "df_plot = df_vc[['nContar', 'sNombre']].groupby(by='nContar', sort=False).agg('count')\n",
    "\n",
    "df_plot.plot(kind='barh', legend=False)\n",
    "#df_vc"
   ]
  },
  {
   "cell_type": "code",
   "execution_count": null,
   "id": "35c8e488-564e-47c6-aeb9-68d78b75acf0",
   "metadata": {},
   "outputs": [],
   "source": []
  }
 ],
 "metadata": {
  "kernelspec": {
   "display_name": "Python 3 (ipykernel)",
   "language": "python",
   "name": "python3"
  },
  "language_info": {
   "codemirror_mode": {
    "name": "ipython",
    "version": 3
   },
   "file_extension": ".py",
   "mimetype": "text/x-python",
   "name": "python",
   "nbconvert_exporter": "python",
   "pygments_lexer": "ipython3",
   "version": "3.11.7"
  }
 },
 "nbformat": 4,
 "nbformat_minor": 5
}
